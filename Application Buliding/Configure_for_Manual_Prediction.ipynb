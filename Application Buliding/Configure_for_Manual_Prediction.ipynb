{
  "nbformat": 4,
  "nbformat_minor": 0,
  "metadata": {
    "colab": {
      "provenance": []
    },
    "kernelspec": {
      "name": "python3",
      "display_name": "Python 3"
    },
    "language_info": {
      "name": "python"
    }
  },
  "cells": [
    {
      "cell_type": "code",
      "execution_count": 1,
      "metadata": {
        "id": "zqCe7qywdBsm"
      },
      "outputs": [],
      "source": [
        "from copyreg import pickle\n",
        "from io import StringIO\n",
        "import pandas as pd\n",
        "import numpy as np\n",
        "from sklearn.linear_model import LogisticRegression\n",
        "import pickle"
      ]
    },
    {
      "cell_type": "code",
      "source": [
        "file = open(\"/content/engine_model.sav\",'rb')\n",
        "model = pickle.load(file)\n",
        "file.close()\n",
        "\n",
        "file = open(\"/content/rul.sav\",'rb')\n",
        "rul_data = pickle.load(file)\n",
        "file.close()\n",
        "\n",
        "\n"
      ],
      "metadata": {
        "id": "RNTZBWWHdsHB"
      },
      "execution_count": 3,
      "outputs": []
    },
    {
      "cell_type": "code",
      "source": [
        "def predict(data):\n",
        "    try:\n",
        "        col_name = ['id','cycle','set1','set2','set3','s1','s2','s3','s4','s5','s6','s7','s8']+['s9','s10','s11','s12','s13','s14','s14','s15','s16','s17','s18','s19','s20']\n",
        "        test_dataset = pd.DataFrame([data],columns=col_name)\n",
        "        rul=pd.DataFrame(test_dataset.groupby(\"id\")['cycle'].max()).reset_index()\n",
        "        rul.columns = ['id','max']\n",
        "        truth_ds['rtf']=truth_ds['more']+rul[\"max\"]\n",
        "        truth_ds.head()\n",
        "        truth_ds['rtf']=truth_ds['more']+rul[\"max\"]\n",
        "        test_dataset=test_dataset.merge(truth_ds, on= ['id'], how= \"left\")\n",
        "        test_dataset[ 'ttf']=test_dataset['rtf'] - test_dataset['cycle']\n",
        "        test_dataset.drop ('rtf', axis=1, inplace=True)\n",
        "        df_test = test_dataset.copy()\n",
        "        period = 30\n",
        "        df_test['label_bc'] = df_test ['ttf'].apply(lambda x: 1 if x <= period else 0)\n",
        "        df_test = df_test.dropna()\n",
        "        if len(df_test.index) == 0 :\n",
        "            return True\n",
        "        x_test = df_test.iloc[ : , : -2].values\n",
        "        y_pred = model.predict(x_test)\n",
        "        return True if y_pred[0] else False\n",
        "    except:\n",
        "        return True"
      ],
      "metadata": {
        "id": "oIKKX1W2ePqa"
      },
      "execution_count": 5,
      "outputs": []
    },
    {
      "cell_type": "code",
      "source": [
        "predict"
      ],
      "metadata": {
        "colab": {
          "base_uri": "https://localhost:8080/"
        },
        "id": "0t4Nx2tbe0bm",
        "outputId": "379f1b24-8e20-45ad-85e9-f97562f02754"
      },
      "execution_count": 9,
      "outputs": [
        {
          "output_type": "execute_result",
          "data": {
            "text/plain": [
              "<function __main__.predict(data)>"
            ]
          },
          "metadata": {},
          "execution_count": 9
        }
      ]
    },
    {
      "cell_type": "markdown",
      "source": [
        "True"
      ],
      "metadata": {
        "id": "mMi3FFiZfoP8"
      }
    }
  ]
}